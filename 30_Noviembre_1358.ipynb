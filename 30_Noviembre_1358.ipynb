{
  "nbformat": 4,
  "nbformat_minor": 0,
  "metadata": {
    "colab": {
      "name": "30_Noviembre_1358.ipynb",
      "provenance": [],
      "authorship_tag": "ABX9TyMCVNIjjjN8OWM/9MFVKKTs",
      "include_colab_link": true
    },
    "kernelspec": {
      "name": "python3",
      "display_name": "Python 3"
    }
  },
  "cells": [
    {
      "cell_type": "markdown",
      "metadata": {
        "id": "view-in-github",
        "colab_type": "text"
      },
      "source": [
        "<a href=\"https://colab.research.google.com/github/Mariowr19/EDDCODIGOS/blob/master/30_Noviembre_1358.ipynb\" target=\"_parent\"><img src=\"https://colab.research.google.com/assets/colab-badge.svg\" alt=\"Open In Colab\"/></a>"
      ]
    },
    {
      "cell_type": "code",
      "metadata": {
        "id": "agSBnXER78vL"
      },
      "source": [
        "class stack:\n",
        "\n",
        "    def __init__( self ):\n",
        "        self.__data = []\n",
        "        self.__size = 0\n",
        "\n",
        "    def pop ( self):\n",
        "        return self.__data.pop()\n",
        "\n",
        "    def peek( self ):\n",
        "        return self.__data[-1]\n",
        "\n",
        "    def push( self , value ):\n",
        "        self.__data.append(value)\n",
        "\n",
        "    def to_string( self ):\n",
        "        print(\"--------\")\n",
        "        for dato in self.__data[ ::-1 ]:\n",
        "            print(f\"| { dato }  |\")\n",
        "            print(\"--------\")\n"
      ],
      "execution_count": 11,
      "outputs": []
    },
    {
      "cell_type": "code",
      "metadata": {
        "colab": {
          "base_uri": "https://localhost:8080/"
        },
        "id": "gvuhWt9IAB_4",
        "outputId": "ea787985-2e62-4049-963d-203938895380"
      },
      "source": [
        "pl = stack()\n",
        "pl.push(34)\n",
        "pl.push(10)\n",
        "pl.push(45)\n",
        "pl.push(4)\n",
        "pl.push(23)\n",
        "pl.push(33)\n",
        "valor = pl.pop()\n",
        "print( valor * 2)\n",
        "pl.to_string()\n",
        "valor = pl.peek()\n",
        "print( valor * 2)\n",
        "pl.to_string()\n"
      ],
      "execution_count": 14,
      "outputs": [
        {
          "output_type": "stream",
          "text": [
            "66\n",
            "--------\n",
            "| 23  |\n",
            "--------\n",
            "| 4  |\n",
            "--------\n",
            "| 45  |\n",
            "--------\n",
            "| 10  |\n",
            "--------\n",
            "| 34  |\n",
            "--------\n",
            "46\n",
            "--------\n",
            "| 23  |\n",
            "--------\n",
            "| 4  |\n",
            "--------\n",
            "| 45  |\n",
            "--------\n",
            "| 10  |\n",
            "--------\n",
            "| 34  |\n",
            "--------\n"
          ],
          "name": "stdout"
        }
      ]
    },
    {
      "cell_type": "code",
      "metadata": {
        "colab": {
          "base_uri": "https://localhost:8080/"
        },
        "id": "wi82XbKGB56y",
        "outputId": "a09dec11-c4f1-484f-ff6b-345ee1f789ed"
      },
      "source": [
        "# Aplicacion de la estructura stack.\n",
        "# 1.- Validacion de parentesis balanceados '( ' , '{' y '[')\n",
        "\n",
        "cadena = \"b=3*(5+(4/2))\"\n",
        "pila = stack()\n",
        "pila.push(\"#\") \n",
        "for elem in cadena:\n",
        "    if elem == '(' :\n",
        "        pila.push('*')\n",
        "    elif elem == ')' :\n",
        "        pila.pop()\n",
        "    else:\n",
        "        pass\n",
        "if pila.peek() == '#' :\n",
        "    print(\"La expresion esta balanceada en parentesis\")\n",
        "else:\n",
        "    printf(\"La expresion no está balanceada\")\n"
      ],
      "execution_count": 19,
      "outputs": [
        {
          "output_type": "stream",
          "text": [
            "La expresion esta balanceada en parentesis\n"
          ],
          "name": "stdout"
        }
      ]
    }
  ]
}