{
  "nbformat": 4,
  "nbformat_minor": 0,
  "metadata": {
    "colab": {
      "name": "8_Enero_1358.ipynb",
      "provenance": [],
      "authorship_tag": "ABX9TyN32pfiNVFa4tePNUGWdJNB",
      "include_colab_link": true
    },
    "kernelspec": {
      "name": "python3",
      "display_name": "Python 3"
    }
  },
  "cells": [
    {
      "cell_type": "markdown",
      "metadata": {
        "id": "view-in-github",
        "colab_type": "text"
      },
      "source": [
        "<a href=\"https://colab.research.google.com/github/Mariowr19/EDDCODIGOS/blob/master/8_Enero_1358.ipynb\" target=\"_parent\"><img src=\"https://colab.research.google.com/assets/colab-badge.svg\" alt=\"Open In Colab\"/></a>"
      ]
    },
    {
      "cell_type": "code",
      "metadata": {
        "id": "olOAHGjxpOO-"
      },
      "source": [
        "class Queue:\r\n",
        "  def __init__(self):\r\n",
        "    self.__data = list()\r\n",
        "    \r\n",
        "\r\n",
        "  def is_empty(self):\r\n",
        "    return len(self.__data) == 0\r\n",
        "\r\n",
        "  def lenght(self):\r\n",
        "    return len(self.__data)\r\n",
        "\r\n",
        "  def enqueue(self, item):\r\n",
        "    self.__data.append(item)\r\n",
        "\r\n",
        "  def dequeue(self):\r\n",
        "    if not self.is_empty():\r\n",
        "      return self.__data.pop(0)\r\n",
        "    else:\r\n",
        "      return None\r\n",
        "\r\n",
        "  def to_string(self): \r\n",
        "    cadena = \"\"\r\n",
        "    for elem in self.__data:\r\n",
        "        cadena = cadena + \"|\" + elem\r\n",
        "    cadena = cadena + \"|\"\r\n",
        "    return cadena\r\n",
        "    "
      ],
      "execution_count": 16,
      "outputs": []
    },
    {
      "cell_type": "code",
      "metadata": {
        "id": "c67sLJ5PpYNv"
      },
      "source": [
        "class BoundedPriorityQueue:\r\n",
        "    def __init__( self , niveles ):\r\n",
        "        self.__data = [Queue() for x in range(niveles)]\r\n",
        "        self.__size = 0\r\n",
        "\r\n",
        "    def is_empty(self):\r\n",
        "        return self.__size == 0\r\n",
        "\r\n",
        "    def length(self):\r\n",
        "        return self.__size\r\n",
        "\r\n",
        "    def enqueue( self , prioridad , elem):\r\n",
        "        if prioridad < len(self.__data) and prioridad >= 0:\r\n",
        "            self.__data[prioridad].enqueue(elem)\r\n",
        "            self.__size +=1\r\n",
        "        else:\r\n",
        "            print(\"Prioridad fuera de rango.\")\r\n",
        "\r\n",
        "\r\n",
        "    def dequeue( self ):\r\n",
        "        if not self.is_empty():\r\n",
        "            nivel = 0\r\n",
        "            while self.__data[nivel].is_empty():\r\n",
        "                nivel += 1\r\n",
        "            return self.__data[nivel].dequeue()\r\n",
        "\r\n",
        "    def to_string( self ):\r\n",
        "        for nivel in range(len(self.__data ) ):\r\n",
        "            print(f\"Nivel { nivel } --> { self.__data[nivel].to_string()}\")\r\n"
      ],
      "execution_count": 17,
      "outputs": []
    },
    {
      "cell_type": "code",
      "metadata": {
        "colab": {
          "base_uri": "https://localhost:8080/"
        },
        "id": "pZaLaG3c2R1J",
        "outputId": "e9c83adf-2736-495e-9a87-ca40ae076fd7"
      },
      "source": [
        "cpa = BoundedPriorityQueue( 5 )\r\n",
        "\"\"\"\r\n",
        "prioridad  nombre\r\n",
        "2          Diana\r\n",
        "3          Andre\r\n",
        "0          Moises \r\n",
        "0          Luis\r\n",
        "2          yoselin\r\n",
        "3          Victor\r\n",
        "4          Cristofer\r\n",
        "4          Irvin\r\n",
        "\"\"\"\r\n",
        "cpa.enqueue( 2, \"Diana\")\r\n",
        "cpa.to_string()\r\n",
        "cpa.enqueue( 3, \"Andre\")\r\n",
        "cpa.enqueue( 0, \"Moises\")\r\n",
        "cpa.enqueue( 0, \"Luis\")\r\n",
        "cpa.enqueue( 2, \"Yoselin\")\r\n",
        "cpa.enqueue( 3, \"Victor\")\r\n",
        "cpa.enqueue( 4, \"Cristofer\")\r\n",
        "cpa.enqueue( 4, \"Irvin\")\r\n",
        "\r\n",
        "cpa.to_string()\r\n",
        "siguiente = cpa.dequeue()\r\n",
        "print(siguiente)\r\n",
        "cpa.to_string()\r\n",
        "\r\n",
        "\r\n"
      ],
      "execution_count": 23,
      "outputs": [
        {
          "output_type": "stream",
          "text": [
            "Nivel 0 --> |\n",
            "Nivel 1 --> |\n",
            "Nivel 2 --> |Diana|\n",
            "Nivel 3 --> |\n",
            "Nivel 4 --> |\n",
            "Nivel 0 --> |Moises|Luis|\n",
            "Nivel 1 --> |\n",
            "Nivel 2 --> |Diana|Yoselin|\n",
            "Nivel 3 --> |Andre|Victor|\n",
            "Nivel 4 --> |Cristofer|Irvin|\n",
            "Moises\n",
            "Nivel 0 --> |Luis|\n",
            "Nivel 1 --> |\n",
            "Nivel 2 --> |Diana|Yoselin|\n",
            "Nivel 3 --> |Andre|Victor|\n",
            "Nivel 4 --> |Cristofer|Irvin|\n"
          ],
          "name": "stdout"
        }
      ]
    }
  ]
}