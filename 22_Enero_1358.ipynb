{
  "nbformat": 4,
  "nbformat_minor": 0,
  "metadata": {
    "colab": {
      "name": "18_Enero_1358.ipynb",
      "provenance": [],
      "authorship_tag": "ABX9TyMipq683z7qm9cU6qu+IfZU",
      "include_colab_link": true
    },
    "kernelspec": {
      "name": "python3",
      "display_name": "Python 3"
    }
  },
  "cells": [
    {
      "cell_type": "markdown",
      "metadata": {
        "id": "view-in-github",
        "colab_type": "text"
      },
      "source": [
        "<a href=\"https://colab.research.google.com/github/Mariowr19/EDDCODIGOS/blob/master/22_Enero_1358.ipynb\" target=\"_parent\"><img src=\"https://colab.research.google.com/assets/colab-badge.svg\" alt=\"Open In Colab\"/></a>"
      ]
    },
    {
      "cell_type": "code",
      "metadata": {
        "id": "ftqoULEUTADx"
      },
      "source": [
        "class NodoArbol:\r\n",
        "    def __init__( self , value , left=None , right=None ):\r\n",
        "        self.data  = value\r\n",
        "        self.left = left\r\n",
        "        self.right = right\r\n",
        "        "
      ],
      "execution_count": 3,
      "outputs": []
    },
    {
      "cell_type": "code",
      "metadata": {
        "id": "WzyHzqwcTw1L"
      },
      "source": [
        "class ArbolBinarioBusqueda:\r\n",
        "    def __init__( self ):\r\n",
        "        self.__root = None\r\n",
        "    def insert( self , value):\r\n",
        "        if self.__root == None:\r\n",
        "            self.__root = NodoArbol( value )\r\n",
        "        else:\r\n",
        "            self.__insert__( self.__root , value)\r\n",
        "\r\n",
        "    def __insert__( self , nodo , value ):   #Recursividad\r\n",
        "        if nodo.data == value :\r\n",
        "            print( \"El nodo ya no existe, ya no se inserta: \" , value)\r\n",
        "        elif value < nodo.data:\r\n",
        "            #Ir a la izquierda\r\n",
        "            if nodo.left == None:\r\n",
        "                 nodo.left =NodoArbol( value , None , None )\r\n",
        "            else:\r\n",
        "                 self.__insert__( nodo.left , value )\r\n",
        "        else:\r\n",
        "            #Ir a la Derecha\r\n",
        "            if nodo.right == None:\r\n",
        "                nodo.right = NodoArbol( value , None , None)\r\n",
        "            else:\r\n",
        "                self.__insert__(nodo.right , value)\r\n",
        "\r\n",
        "    def transversal( self , format = \" in \" ):  #in , pos , pre\r\n",
        "            if format == \" in \" :\r\n",
        "                self.__recorrido__in( self.__root )\r\n",
        "            elif format == \" pre \":\r\n",
        "                print(\"recorrido en pre orden\")\r\n",
        "            elif format == \" pos \":\r\n",
        "                print(\"Recorrido en pos orden\")\r\n",
        "            else:\r\n",
        "                print(\"Formato no valido\")\r\n",
        "\r\n",
        "    def __recorrido__in( self , nodo ):\r\n",
        "        if nodo == None:\r\n",
        "            #print(\"Caso Base\")\r\n",
        "            pass\r\n",
        "        else:\r\n",
        "            self.__recorrido__in( nodo.left )\r\n",
        "            print(nodo.data , end=\",\")\r\n",
        "            self.__recorrido__in( nodo.right )\r\n",
        "    def __recorrido__pre( self , nodo ):\r\n",
        "        if nodo == None:\r\n",
        "            #print(\"Caso Base\")\r\n",
        "            pass\r\n",
        "        else:\r\n",
        "            self.__recorrido__pre( nodo.left )\r\n",
        "            self.__recorrido__pre( nodo.right )\r\n",
        "            print(nodo.data , end=\",\")\r\n",
        "\r\n",
        "    def __recorrido__pos( self , nodo ):\r\n",
        "        if nodo == None:\r\n",
        "            #print(\"Caso Base\")\r\n",
        "            pass\r\n",
        "        else:\r\n",
        "            self.__recorrido__pos( nodo.left )\r\n",
        "            self.__recorrido__pos( nodo.right )\r\n",
        "            print(nodo.data , end=\",\")\r\n",
        "\r\n",
        "    def search( self , value ):\r\n",
        "        if self.__root == None:\r\n",
        "            print(\"Arbol vacio\")\r\n",
        "        else:\r\n",
        "            return self.__search( self.__root , value)\r\n",
        "\r\n",
        "    def __search( self , nodo , value):\r\n",
        "        if nodo == None:\r\n",
        "            return None\r\n",
        "        elif nodo.data == value:\r\n",
        "            return nodo\r\n",
        "        elif value < nodo.data:\r\n",
        "            print(\"ir a la izquiera\")\r\n",
        "            return self.__search(nodo.left , value )\r\n",
        "        else:\r\n",
        "            print(\"Ir a la derecha\")\r\n",
        "            return self.__search( nodo.right , value)\r\n",
        "\r\n",
        "\r\n",
        "\r\n",
        "\r\n",
        "\r\n",
        "\r\n",
        "\r\n",
        "\r\n",
        "\r\n",
        "\r\n"
      ],
      "execution_count": 22,
      "outputs": []
    },
    {
      "cell_type": "code",
      "metadata": {
        "colab": {
          "base_uri": "https://localhost:8080/",
          "height": 248
        },
        "id": "wL6DGbJUeVSa",
        "outputId": "173fa5e6-ac39-4323-9a56-b16b8b4c67a4"
      },
      "source": [
        "abb = ArbolBinarioBusqueda()\r\n",
        "abb.insert( 50 )\r\n",
        "abb.insert( 60 )\r\n",
        "abb.insert( 35 )\r\n",
        "abb.insert( 89 )\r\n",
        "abb.insert( 70 )\r\n",
        "abb.insert( 1 )\r\n",
        "abb.transversal()\r\n",
        "abb.transversal(\"pre\")\r\n",
        "abb.transversal(\"pos\")\r\n",
        "res = abb.search(70)\r\n",
        "print(f'El nodo es:{res.data}, hijo izq {res.left}, hijo der {res.right}')"
      ],
      "execution_count": 28,
      "outputs": [
        {
          "output_type": "stream",
          "text": [
            "1,35,50,60,70,89,Formato no valido\n",
            "Formato no valido\n"
          ],
          "name": "stdout"
        },
        {
          "output_type": "error",
          "ename": "AttributeError",
          "evalue": "ignored",
          "traceback": [
            "\u001b[0;31m---------------------------------------------------------------------------\u001b[0m",
            "\u001b[0;31mAttributeError\u001b[0m                            Traceback (most recent call last)",
            "\u001b[0;32m<ipython-input-28-1f817f8858c6>\u001b[0m in \u001b[0;36m<module>\u001b[0;34m()\u001b[0m\n\u001b[1;32m      9\u001b[0m \u001b[0mabb\u001b[0m\u001b[0;34m.\u001b[0m\u001b[0mtransversal\u001b[0m\u001b[0;34m(\u001b[0m\u001b[0;34m\"pre\"\u001b[0m\u001b[0;34m)\u001b[0m\u001b[0;34m\u001b[0m\u001b[0;34m\u001b[0m\u001b[0m\n\u001b[1;32m     10\u001b[0m \u001b[0mabb\u001b[0m\u001b[0;34m.\u001b[0m\u001b[0mtransversal\u001b[0m\u001b[0;34m(\u001b[0m\u001b[0;34m\"pos\"\u001b[0m\u001b[0;34m)\u001b[0m\u001b[0;34m\u001b[0m\u001b[0;34m\u001b[0m\u001b[0m\n\u001b[0;32m---> 11\u001b[0;31m \u001b[0mres\u001b[0m \u001b[0;34m=\u001b[0m \u001b[0mabb\u001b[0m\u001b[0;34m.\u001b[0m\u001b[0msearch\u001b[0m\u001b[0;34m(\u001b[0m\u001b[0;36m70\u001b[0m\u001b[0;34m)\u001b[0m\u001b[0;34m\u001b[0m\u001b[0;34m\u001b[0m\u001b[0m\n\u001b[0m\u001b[1;32m     12\u001b[0m \u001b[0mprint\u001b[0m\u001b[0;34m(\u001b[0m\u001b[0;34mf'El nodo es:{res.data}, hijo izq {res.left}, hijo der {res.right}'\u001b[0m\u001b[0;34m)\u001b[0m\u001b[0;34m\u001b[0m\u001b[0;34m\u001b[0m\u001b[0m\n",
            "\u001b[0;31mAttributeError\u001b[0m: 'ArbolBinarioBusqueda' object has no attribute 'search'"
          ]
        }
      ]
    }
  ]
}