{
  "nbformat": 4,
  "nbformat_minor": 0,
  "metadata": {
    "colab": {
      "name": "18_Noviembre_1358.ipynb",
      "provenance": [],
      "authorship_tag": "ABX9TyOsQM6lWgoi7w/kPBGwmDmi",
      "include_colab_link": true
    },
    "kernelspec": {
      "name": "python3",
      "display_name": "Python 3"
    }
  },
  "cells": [
    {
      "cell_type": "markdown",
      "metadata": {
        "id": "view-in-github",
        "colab_type": "text"
      },
      "source": [
        "<a href=\"https://colab.research.google.com/github/Mariowr19/EDDCODIGOS/blob/master/18_Noviembre_1358.ipynb\" target=\"_parent\"><img src=\"https://colab.research.google.com/assets/colab-badge.svg\" alt=\"Open In Colab\"/></a>"
      ]
    },
    {
      "cell_type": "code",
      "metadata": {
        "id": "BTpw_Wv-DxX4",
        "colab": {
          "base_uri": "https://localhost:8080/"
        },
        "outputId": "7609f4b2-4e7e-401e-e162-f6e89e0eead5"
      },
      "source": [
        "class Nodo:\n",
        "  def __init__(self,dato):\n",
        "    self.__dato = dato\n",
        "    self.__siguiente = None\n",
        "\n",
        "  def get_dato(self):\n",
        "    return self.__dato\n",
        "\n",
        "  def set_dato(self, d):\n",
        "    self.__dato = d\n",
        "\n",
        "  def get_siguiente(self):\n",
        "    return self.__siguiente\n",
        "\n",
        "  def set_siguiente(self, d):\n",
        "    self.__siguiente = d\n",
        "\n",
        "  def to_string(self):\n",
        "    return \"l \" + str(self.__dato) + \" l \" + str(self.__siguiente) + \" l --->\"\n",
        "\n",
        "  def show( self ):\n",
        "    curr_node = self # Head\n",
        "    print(\" Inicio de la estructura ligada:\")\n",
        "    print(\"|\" + str(curr_node.get_dato()) + \"| -->\" , end =\"\" )\n",
        "    while( curr_node.get_siguiente() != None ):\n",
        "        curr_node = curr_node.get_siguiente()\n",
        "        print(\"|\" + str(curr_node.get_dato() ) + \"| -->\" , end =\"\" )\n",
        "    print(\"\\nFin\")\n",
        "\n",
        "  #Ejemplo 1\n",
        "a = Nodo(10)\n",
        "a.show()\n",
        "\n",
        "  #Ejemplo 2\n",
        "a.set_siguiente(Nodo(20))\n",
        "a.show()\n",
        "\n",
        "  #Ejemplo 3\n",
        "a.get_siguiente().set_siguiente(Nodo(30))\n",
        "a.show()\n",
        "\n",
        "  #Ejemplo 4\n",
        "a.get_siguiente().get_siguiente().set_siguiente(Nodo(40))\n",
        "a.show()\n",
        "\n",
        "  #Ejemplo 5\n",
        "a.get_siguiente().get_siguiente().get_siguiente().set_siguiente(Nodo(50))\n",
        "a.show()\n",
        "\n",
        "  #Ejemplo 6\n",
        "a.set_dato(12)\n",
        "a.show()\n",
        "\n",
        "  #Ejemplpo 7\n",
        "a.get_siguiente().get_siguiente().get_siguiente().set_dato(45)\n",
        "a.show()\n",
        "\n",
        "  #Ejemplo 8\n",
        "a.get_siguiente().get_siguiente().get_siguiente().get_siguiente().set_siguiente(Nodo(60))\n",
        "a.show()\n",
        "\n",
        "  #Ejemplo 9\n",
        "a.get_siguiente().set_dato(25)\n",
        "a.show()\n"
      ],
      "execution_count": null,
      "outputs": [
        {
          "output_type": "stream",
          "text": [
            " Inicio de la estructura ligada:\n",
            "|10| -->\n",
            "Fin\n",
            " Inicio de la estructura ligada:\n",
            "|10| -->|20| -->\n",
            "Fin\n",
            " Inicio de la estructura ligada:\n",
            "|10| -->|20| -->|30| -->\n",
            "Fin\n",
            " Inicio de la estructura ligada:\n",
            "|10| -->|20| -->|30| -->|40| -->\n",
            "Fin\n",
            " Inicio de la estructura ligada:\n",
            "|10| -->|20| -->|30| -->|40| -->|50| -->\n",
            "Fin\n",
            " Inicio de la estructura ligada:\n",
            "|12| -->|20| -->|30| -->|40| -->|50| -->\n",
            "Fin\n",
            " Inicio de la estructura ligada:\n",
            "|12| -->|20| -->|30| -->|45| -->|50| -->\n",
            "Fin\n",
            " Inicio de la estructura ligada:\n",
            "|12| -->|20| -->|30| -->|45| -->|50| -->|60| -->\n",
            "Fin\n",
            " Inicio de la estructura ligada:\n",
            "|12| -->|25| -->|30| -->|45| -->|50| -->|60| -->\n",
            "Fin\n"
          ],
          "name": "stdout"
        }
      ]
    },
    {
      "cell_type": "code",
      "metadata": {
        "id": "E3SiEMlbOQbJ",
        "colab": {
          "base_uri": "https://localhost:8080/"
        },
        "outputId": "793d3ff6-03ed-4c2d-9c46-9386a290bc7b"
      },
      "source": [
        "class Nodo:\n",
        "  def __init__(self,dato):\n",
        "    self.dato = dato\n",
        "    self.siguiente = None\n",
        "\n",
        "  #Ejemplo 1\n",
        "a = Nodo(10)\n",
        "\n",
        "print(a.dato)\n",
        "print(a.siguiente)\n",
        "\n",
        "  #Ejemplo 2\n",
        "a.siguiente = Nodo(20)\n",
        "\n",
        "  #Ejemplo 3\n",
        "a.siguiente.siguiente = Nodo(30)\n",
        "\n",
        "  #Ejemplo 4\n",
        "a.siguiente.siguiente.siguiente = Nodo(40)\n",
        "  \n",
        "  #Ejemplo 5\n",
        "a.siguiente.siguiente.siguiente.siguiente = Nodo(50)\n",
        "\n",
        "#Recorrido transversal\n",
        "curr_node = a\n",
        "print(curr_node.dato , '-->' , end='')\n",
        "while( curr_node.siguiente != None ):\n",
        "    curr_node = curr_node.siguiente\n",
        "    print(curr_node.dato, \"-->\" , end=\"\")\n",
        "print(\"\")\n",
        "\n",
        "  #Ejemplo 6\n",
        "a.siguiente.siguiente.siguiente.dato = 45\n",
        "\n",
        "  #Ejemplo 7\n",
        "a.siguiente.siguiente.dato = 35\n",
        "\n",
        "  #Ejemplo 8\n",
        "a.siguiente.siguiente = a.siguiente.siguiente.siguiente\n",
        "\n",
        "  #Ejemplo 9\n",
        "a.siguiente = a.siguiente.siguiente.siguiente.siguiente\n",
        "\n",
        "\n",
        "#Recorrido transversal\n",
        "curr_node = a\n",
        "print(curr_node.dato , '-->' , end='')\n",
        "while( curr_node.siguiente != None ):\n",
        "    curr_node = curr_node.siguiente\n",
        "    print(curr_node.dato, \"-->\" , end=\"\")\n",
        "print(\"\")\n",
        "\n",
        "\n",
        "\n",
        "\n"
      ],
      "execution_count": null,
      "outputs": [
        {
          "output_type": "stream",
          "text": [
            "10\n",
            "None\n",
            "10 -->20 -->30 -->40 -->50 -->\n",
            "10 -->\n"
          ],
          "name": "stdout"
        }
      ]
    },
    {
      "cell_type": "code",
      "metadata": {
        "colab": {
          "base_uri": "https://localhost:8080/"
        },
        "id": "NeFxw7pqJSCG",
        "outputId": "a05cb81f-bf92-4aee-c9e4-992d79395976"
      },
      "source": [
        "#Codigo de 18 de noviembre.\n",
        "class Nodo:\n",
        "  def __init__(self,dato, siguiente=None ):\n",
        "    self.dato = dato\n",
        "    self.siguiente = siguiente\n",
        "\n",
        "head = Nodo( 10 , Nodo( 20 , Nodo( 30  , Nodo( 40 , Nodo( 50 ) ) ) ) )\n",
        "\n",
        "#Recorrido transversal\n",
        "curr_node = head\n",
        "print(curr_node.dato , '-->' , end='')\n",
        "while( curr_node.siguiente != None ):\n",
        "    curr_node = curr_node.siguiente\n",
        "    print(curr_node.dato, \"-->\" , end=\"\")\n",
        "print(\"\")\n",
        "\n",
        "#insertar el nodo 35 despues de 30.\n",
        "anterior = head.siguiente.siguiente\n",
        "print(anterior.dato)\n",
        "\n",
        "Nuevo = Nodo( 35 )\n",
        "Nuevo.siguiente = anterior.siguiente\n",
        "print(Nuevo.siguiente.dato)\n",
        "\n",
        "anterior.siguiente = Nuevo\n",
        "\n",
        "#Recorrido transversal\n",
        "curr_node = head\n",
        "print(curr_node.dato , '-->' , end='')\n",
        "while( curr_node.siguiente != None ):\n",
        "    curr_node = curr_node.siguiente\n",
        "    print(curr_node.dato, \"-->\" , end=\"\")\n",
        "print(\"\")\n",
        "\n",
        "#Eliminar el Nodo 20.\n",
        "head.siguiente = head.siguiente.siguiente\n",
        "\n",
        "#Recorrido transversal\n",
        "curr_node = head\n",
        "print(curr_node.dato , '-->' , end='')\n",
        "while( curr_node.siguiente != None ):\n",
        "    curr_node = curr_node.siguiente\n",
        "    print(curr_node.dato, \"-->\" , end=\"\")\n",
        "print(\"\")\n"
      ],
      "execution_count": 8,
      "outputs": [
        {
          "output_type": "stream",
          "text": [
            "10 -->20 -->30 -->40 -->50 -->\n",
            "30\n",
            "40\n",
            "10 -->20 -->30 -->35 -->40 -->50 -->\n",
            "10 -->30 -->35 -->40 -->50 -->\n"
          ],
          "name": "stdout"
        }
      ]
    },
    {
      "cell_type": "code",
      "metadata": {
        "id": "Zg51NwtfVjlr"
      },
      "source": [
        "class Nodo:\n",
        "  def __init__(self,dato, siguiente=None ):\n",
        "    self.dato = dato\n",
        "    self.siguiente = siguiente\n",
        "\n",
        "class linknedList:\n",
        "    def __init__( self ):\n",
        "        self.__head = None\n",
        "\n",
        "    def is__empty( self ):\n",
        "        return self.__head == None"
      ],
      "execution_count": 10,
      "outputs": []
    }
  ]
}