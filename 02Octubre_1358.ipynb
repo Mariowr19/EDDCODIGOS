{
  "nbformat": 4,
  "nbformat_minor": 0,
  "metadata": {
    "colab": {
      "name": "02Octubre_1358.ipynb",
      "provenance": [],
      "authorship_tag": "ABX9TyMkZSXjBE4BM7so29Xj8ebv",
      "include_colab_link": true
    },
    "kernelspec": {
      "name": "python3",
      "display_name": "Python 3"
    }
  },
  "cells": [
    {
      "cell_type": "markdown",
      "metadata": {
        "id": "view-in-github",
        "colab_type": "text"
      },
      "source": [
        "<a href=\"https://colab.research.google.com/github/Mariowr19/EDDCODIGOS/blob/master/02Octubre_1358.ipynb\" target=\"_parent\"><img src=\"https://colab.research.google.com/assets/colab-badge.svg\" alt=\"Open In Colab\"/></a>"
      ]
    },
    {
      "cell_type": "code",
      "metadata": {
        "id": "P2Jh6pJU2mP2"
      },
      "source": [
        ""
      ],
      "execution_count": null,
      "outputs": []
    },
    {
      "cell_type": "markdown",
      "metadata": {
        "id": "Gfkt0o4E3NWs"
      },
      "source": [
        "#Tipos de dato\n",
        "\n",
        "- String              str\n",
        "-Enteros             int\n",
        "-Numeros flotantes   float\n",
        "-Logico              bool\n",
        "-Numero Complejo     complex\n",
        "-Listas              list\n",
        "-Tupla               tuple\n",
        "-Diccionarios        dict\n",
        "-Conjuntos           set\n",
        "\n"
      ]
    },
    {
      "cell_type": "code",
      "metadata": {
        "id": "YaLLAe-74Bvt",
        "outputId": "3d69b3d9-a2be-42d1-9662-772a66264de5",
        "colab": {
          "base_uri": "https://localhost:8080/",
          "height": 153
        }
      },
      "source": [
        "#string puede emplear \"\" o `` o \"\"\"\"\"\"\n",
        "universidad = \"       universidad     nacional     autonoma     de     mexico    \"\n",
        "print(universidad)\n",
        "#cuando es una sola palabra, solo usa comillas simples.\n",
        "carrera = 'ICO'\n",
        "area = \"software\"\n",
        "division = 'Division de ciencias fisico matematicas'\n",
        "print(carrera,area)\n",
        "print(division)\n",
        "\n",
        "frase = \"\"\"\n",
        "Si funciona\n",
        "No lo\n",
        "Arregles!!!\n",
        "\"\"\"\n",
        "print (frase)\n",
        "\n"
      ],
      "execution_count": 23,
      "outputs": [
        {
          "output_type": "stream",
          "text": [
            "       universidad     nacional     autonoma     de     mexico    \n",
            "ICO software\n",
            "Division de ciencias fisico matematicas\n",
            "\n",
            "Si funciona\n",
            "No lo\n",
            "Arregles!!!\n",
            "\n"
          ],
          "name": "stdout"
        }
      ]
    },
    {
      "cell_type": "code",
      "metadata": {
        "id": "wKi6Z1rq5q9Y",
        "outputId": "a8fee61d-5de0-473f-e200-7dbfc93950f2",
        "colab": {
          "base_uri": "https://localhost:8080/",
          "height": 207
        }
      },
      "source": [
        "print(universidad.upper() )\n",
        "print(universidad)\n",
        "print(universidad.title() )\n",
        "#Eliminar espacios a la der e izq \\n\n",
        "universidad = universidad.strip()\n",
        "print(universidad)\n",
        "lista = universidad.split(\" \")\n",
        "print(lista)\n",
        "for l in lista:\n",
        "  if len (l) > 0:\n",
        "    nueva += l + \" \"\n",
        "print(nueva)\n",
        "\n",
        "numeros = \"19, 7, 84, 26, 10\"\n",
        "separados = numeros.split(\",\")\n",
        "print(separados)\n",
        "numeros_int= []\n",
        "for num in separados:\n",
        "  numeros_int.append ( int(num) )\n",
        "\n",
        "print(numeros_int)\n",
        "print(universidad)\n",
        "print(universidad.index(\"na\"))\n",
        "\n",
        "\n"
      ],
      "execution_count": 25,
      "outputs": [
        {
          "output_type": "stream",
          "text": [
            "UNIVERSIDAD     NACIONAL     AUTONOMA     DE     MEXICO\n",
            "universidad     nacional     autonoma     de     mexico\n",
            "Universidad     Nacional     Autonoma     De     Mexico\n",
            "universidad     nacional     autonoma     de     mexico\n",
            "['universidad', '', '', '', '', 'nacional', '', '', '', '', 'autonoma', '', '', '', '', 'de', '', '', '', '', 'mexico']\n",
            "mexico universoidad nacional autonoma de mexico universoidad nacional autonoma de mexico universoidad nacional autonoma de mexico universoidad nacional autonoma de mexico universoidad nacional autonoma de mexico universoidad nacional autonoma de mexico universoidad nacional autonoma de mexico universoidad nacional autonoma de mexico universoidad nacional autonoma de mexico universoidad nacional autonoma de mexico universoidad nacional autonoma de mexico universidad nacional autonoma de mexico universidad nacional autonoma de mexico \n",
            "['19', ' 7', ' 84', ' 26', ' 10']\n",
            "[19, 7, 84, 26, 10]\n",
            "universidad     nacional     autonoma     de     mexico\n",
            "16\n"
          ],
          "name": "stdout"
        }
      ]
    },
    {
      "cell_type": "markdown",
      "metadata": {
        "id": "gw2MqG_p_Whq"
      },
      "source": [
        "#slicing\n",
        "Sintaxis [inicio: stop: incremneto]\n"
      ]
    },
    {
      "cell_type": "code",
      "metadata": {
        "id": "Mn1_VlKICZMn",
        "outputId": "79ca05b3-39d5-4106-c7d2-143e380c3cd9",
        "colab": {
          "base_uri": "https://localhost:8080/",
          "height": 136
        }
      },
      "source": [
        "Universidad = \"universidad nacional autonoma de mexico\"\n",
        "print(Universidad)\n",
        "#selector de elementos dentro de un string\n",
        "print( Universidad [0] )\n",
        "universidad = Universidad.strip\n",
        "print( Universidad[ len(Universidad) -1])\n",
        "print(Universidad[-2])\n",
        "#slicing\n",
        "print(Universidad[ 12  :  22   :  1])\n",
        "print(Universidad [-1  :  -7   :  -1])\n",
        "\n",
        "#valores por defecto (0: long de la lista :1)\n",
        "print(Universidad[::2] )\n"
      ],
      "execution_count": 48,
      "outputs": [
        {
          "output_type": "stream",
          "text": [
            "universidad nacional autonoma de mexico\n",
            "u\n",
            "o\n",
            "c\n",
            "nacional a\n",
            "ocixem\n",
            "uiesddncoa uooad eio\n"
          ],
          "name": "stdout"
        }
      ]
    },
    {
      "cell_type": "markdown",
      "metadata": {
        "id": "6BJFIUW_EIrx"
      },
      "source": [
        "#Bool\n",
        "acepta solo dos valores: true bool(1)\n",
        "false bool(0)\n",
        "\n"
      ]
    },
    {
      "cell_type": "code",
      "metadata": {
        "id": "jogPdB1CEavs",
        "outputId": "63566b2d-3045-474d-e083-6581cc9b9b54",
        "colab": {
          "base_uri": "https://localhost:8080/",
          "height": 85
        }
      },
      "source": [
        "print(bool(0))\n",
        "print(bool(12345))\n",
        "flag = 0\n",
        "print(bool(flag))\n",
        "print(True)\n"
      ],
      "execution_count": 50,
      "outputs": [
        {
          "output_type": "stream",
          "text": [
            "False\n",
            "True\n",
            "False\n",
            "True\n"
          ],
          "name": "stdout"
        }
      ]
    },
    {
      "cell_type": "markdown",
      "metadata": {
        "id": "cV738slpFUcA"
      },
      "source": [
        "#comentarios\n",
        "\n",
        "para un comentario de una linea se usa #\n",
        "para un comentario de multiple  linea equivalemte a /* */ de java y de leng c se utiliza \"\"\" \"\"\"\n",
        "\n"
      ]
    },
    {
      "cell_type": "code",
      "metadata": {
        "id": "4cf4lfEhFZ08"
      },
      "source": [
        "#Este es un comentario de linea simple\n",
        "\n",
        "\"\"\"Este es  \n",
        "un comentario de \n",
        "linea multiple\n",
        "\"\"\"\n",
        "\n"
      ],
      "execution_count": null,
      "outputs": []
    },
    {
      "cell_type": "markdown",
      "metadata": {
        "id": "vUFBpNnBFrZ5"
      },
      "source": [
        "#Funcion print\n",
        "Existen 4 formas de usar esta funcion.\n",
        "1. La primera es con (,).\n",
        "1. La siguiente es con signo + (+)\n",
        "1. con la funcion format() de la clase string\n",
        "1. con el operador f\"\""
      ]
    },
    {
      "cell_type": "code",
      "metadata": {
        "id": "FjvXhxLTGN1J",
        "outputId": "27ed1148-1d33-45e0-ed9f-b632469bf628",
        "colab": {
          "base_uri": "https://localhost:8080/",
          "height": 85
        }
      },
      "source": [
        "#con comas\n",
        "cantidad = 5\n",
        "precio_papas = 12\n",
        "precio_coca = 15\n",
        "print(cantidad, precio_papas, precio_coca)\n",
        "\n",
        "#son signo de operador str\n",
        "print(\"Hola\" + \" \" + \"Mundo\")\n",
        "print(cantidad + precio_papas + precio_coca)\n",
        "print(str(cantidad) + str(precio_papas) + str(precio_coca))\n",
        "\n"
      ],
      "execution_count": 54,
      "outputs": [
        {
          "output_type": "stream",
          "text": [
            "5 12 15\n",
            "Hola Mundo\n",
            "32\n",
            "51215\n"
          ],
          "name": "stdout"
        }
      ]
    }
  ]
}