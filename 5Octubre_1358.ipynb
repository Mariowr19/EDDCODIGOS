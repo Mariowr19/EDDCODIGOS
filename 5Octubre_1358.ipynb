{
  "nbformat": 4,
  "nbformat_minor": 0,
  "metadata": {
    "colab": {
      "name": "Copia de 5Octubre_1358.ipynb",
      "provenance": [],
      "authorship_tag": "ABX9TyMtDBQhz/Ou56r1yB2BJo0n",
      "include_colab_link": true
    },
    "kernelspec": {
      "name": "python3",
      "display_name": "Python 3"
    }
  },
  "cells": [
    {
      "cell_type": "markdown",
      "metadata": {
        "id": "view-in-github",
        "colab_type": "text"
      },
      "source": [
        "<a href=\"https://colab.research.google.com/github/Mariowr19/EDDCODIGOS/blob/master/5Octubre_1358.ipynb\" target=\"_parent\"><img src=\"https://colab.research.google.com/assets/colab-badge.svg\" alt=\"Open In Colab\"/></a>"
      ]
    },
    {
      "cell_type": "code",
      "metadata": {
        "id": "P0KpJ5WcSNwT",
        "outputId": "32dd1f6a-ac73-4c61-fc66-0cf6ba397b41",
        "colab": {
          "base_uri": "https://localhost:8080/",
          "height": 51
        }
      },
      "source": [
        "precio = 12.5\n",
        "cantidad = 10\n",
        "existencia = True\n",
        "\n",
        "#Precio de los chetos es 12.5 y quiero 10. ¿Hay?: True\n",
        "print(\"EL plrecio de los chetos es $\", precio, \"y quiero \",cantidad, \", ¿Hay?:\", existencia)\n",
        "\n",
        "#format { } de la clase str\n",
        "print(\"EL precio de los chetos es {0} y quiero {1}, ¿Hay?: {2}\".format(precio,cantidad,existencia))"
      ],
      "execution_count": null,
      "outputs": [
        {
          "output_type": "stream",
          "text": [
            "EL plrecio de los chetos es $ 12.5 y quiero  10 , ¿Hay?: True\n",
            "EL precio de los chetos es 12.5 y quiero 10, ¿Hay?: True\n"
          ],
          "name": "stdout"
        }
      ]
    },
    {
      "cell_type": "markdown",
      "metadata": {
        "id": "SNgOIumdYM2F"
      },
      "source": [
        "#Listas  \n",
        "Declaracion [ ]\n",
        "\n",
        "Selector [ ]\n",
        "\n",
        "Mutable\n",
        "\n",
        "#tuplas\n",
        "Declaracion ( )\n",
        "\n",
        "Selector [ ]\n",
        "\n",
        "No mutable\n",
        "\n",
        "#Diccionarios\n",
        "Conjuntos de datos en pares de llave:valor\n",
        "\n",
        "Son mutables\n",
        "\n",
        "Equivalentes a JSON.\n",
        "\n",
        "#Conjuntos\n",
        "Grupo de elementos con la teoria de conjuntos\n",
        "\n",
        "Operanciones de conjuntos.\n"
      ]
    },
    {
      "cell_type": "code",
      "metadata": {
        "id": "jTMD2w1iZYXf",
        "outputId": "fb15906a-d2bd-4f51-a64c-f4cf81b5aac4",
        "colab": {
          "base_uri": "https://localhost:8080/",
          "height": 408
        }
      },
      "source": [
        "#listas\n",
        "equipos = [\"Pumas FA\", \"Escorpiones rojos FI\", \"Frailes\", \"Buros blancos\"]\n",
        "print(equipos)\n",
        "print(equipos[1] )\n",
        "print(equipos[-1])\n",
        "print(equipos[3] )\n",
        "print(equipos[: : -1])\n",
        "\n",
        "#crear una lista a partir de un string\n",
        "fecha = \"05/Octubre/2020\"\n",
        "lista_fecha = fecha.split(\"/\")\n",
        "print(lista_fecha)\n",
        "\n",
        "#crear un string a partir de una lista\n",
        "lista_hora = [\"15\",\"24\",\"30\"]\n",
        "hora = \":\".join(lista_hora)\n",
        "print(hora)\n",
        "\n",
        "print(\"/////////////////////////////////////////////////////////////////////\")\n",
        "\n",
        "print(equipos)\n",
        "print(lista_fecha)\n",
        "print(lista_hora)\n",
        "\n",
        "equipos[0] = \"FES Aragón\"\n",
        "print(equipos)\n",
        "\n",
        "#agregar\n",
        "equipos.append(\"aguilas blancas\")\n",
        "print(equipos)\n",
        "\n",
        "#insertar \n",
        "equipos.insert(2,\"Raptors\")\n",
        "print(equipos)\n",
        "\n",
        "#Remover o regresar algun elemento.\n",
        "equipo = equipos.pop()\n",
        "print(equipo)\n",
        "print(equipos)\n",
        "equipo = equipos.pop(1)\n",
        "print(equipo)\n",
        "print(equipos)\n",
        "\n",
        "#Vaciar una lista\n",
        "equipos.clear()\n",
        "print(equipos)\n",
        "\n",
        "#Slicing\n",
        "print(\"Slicing\")\n",
        "numeros = [0,1,2,3,4,5,6,7,8,9,10]\n",
        "print(numeros)\n",
        "\n",
        "print(numeros[4 : 9 : 1])\n",
        "\n",
        "#Sustituir un elemento con slicing [0,1,2,3, -2 ,9,10]\n",
        "numeros [4 : 9 : 1] = [-2 ]\n",
        "print(numeros)\n",
        "\n",
        "\n",
        "\n",
        "\n",
        "\n",
        "\n",
        "\n",
        "\n",
        "\n"
      ],
      "execution_count": null,
      "outputs": [
        {
          "output_type": "stream",
          "text": [
            "['Pumas FA', 'Escorpiones rojos FI', 'Frailes', 'Buros blancos']\n",
            "Escorpiones rojos FI\n",
            "Buros blancos\n",
            "Buros blancos\n",
            "['Buros blancos', 'Frailes', 'Escorpiones rojos FI', 'Pumas FA']\n",
            "['05', 'Octubre', '2020']\n",
            "15:24:30\n",
            "/////////////////////////////////////////////////////////////////////\n",
            "['Pumas FA', 'Escorpiones rojos FI', 'Frailes', 'Buros blancos']\n",
            "['05', 'Octubre', '2020']\n",
            "['15', '24', '30']\n",
            "['FES Aragón', 'Escorpiones rojos FI', 'Frailes', 'Buros blancos']\n",
            "['FES Aragón', 'Escorpiones rojos FI', 'Frailes', 'Buros blancos', 'aguilas blancas']\n",
            "['FES Aragón', 'Escorpiones rojos FI', 'Raptors', 'Frailes', 'Buros blancos', 'aguilas blancas']\n",
            "aguilas blancas\n",
            "['FES Aragón', 'Escorpiones rojos FI', 'Raptors', 'Frailes', 'Buros blancos']\n",
            "Escorpiones rojos FI\n",
            "['FES Aragón', 'Raptors', 'Frailes', 'Buros blancos']\n",
            "[]\n",
            "Slicing\n",
            "[0, 1, 2, 3, 4, 5, 6, 7, 8, 9, 10]\n",
            "[4, 5, 6, 7, 8]\n",
            "[0, 1, 2, 3, -2, 9, 10]\n"
          ],
          "name": "stdout"
        }
      ]
    },
    {
      "cell_type": "code",
      "metadata": {
        "id": "LfcuA-1TiQn_",
        "outputId": "97e0bf1a-e25d-4777-c34e-2bbbac1dcea5",
        "colab": {
          "base_uri": "https://localhost:8080/",
          "height": 51
        }
      },
      "source": [
        "autos = [\"honda\", \"mazda\", \"nissan\", \"kia\"]\n",
        "telefonos = [\"iphone 11\", \"huawei Y9s\", \"samsung S10+\", \"Motorola onoe fusion+\"]\n",
        "sistemas_operativos = [\"linux\", \"windows\", \"IOs\", \"Android\", \"MacOs\"]\n",
        "\n",
        "lista_2D = [autos,telefonos,sistemas_operativos]\n",
        "print(lista_2D)\n",
        "print(lista_2D[1][1])\n"
      ],
      "execution_count": null,
      "outputs": [
        {
          "output_type": "stream",
          "text": [
            "[['honda', 'mazda', 'nissan', 'kia'], ['iphone 11', 'huawei Y9s', 'samsung S10+', 'Motorola onoe fusion+'], ['linux', 'windows', 'IOs', 'Android', 'MacOs']]\n",
            "huawei Y9s\n"
          ],
          "name": "stdout"
        }
      ]
    }
  ]
}