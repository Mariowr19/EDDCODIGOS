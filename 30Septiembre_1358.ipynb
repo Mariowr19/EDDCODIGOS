{
  "nbformat": 4,
  "nbformat_minor": 0,
  "metadata": {
    "colab": {
      "name": "30Septiembre_1358.ipynb",
      "provenance": [],
      "authorship_tag": "ABX9TyOFUWYYVubZ1qEIN2co0/4h",
      "include_colab_link": true
    },
    "kernelspec": {
      "name": "python3",
      "display_name": "Python 3"
    }
  },
  "cells": [
    {
      "cell_type": "markdown",
      "metadata": {
        "id": "view-in-github",
        "colab_type": "text"
      },
      "source": [
        "<a href=\"https://colab.research.google.com/github/Mariowr19/EDDCODIGOS/blob/master/30Septiembre_1358.ipynb\" target=\"_parent\"><img src=\"https://colab.research.google.com/assets/colab-badge.svg\" alt=\"Open In Colab\"/></a>"
      ]
    },
    {
      "cell_type": "code",
      "metadata": {
        "id": "ytj5x9SbseaS"
      },
      "source": [
        ""
      ],
      "execution_count": null,
      "outputs": []
    },
    {
      "cell_type": "markdown",
      "metadata": {
        "id": "64gZRV8Cs_Fo"
      },
      "source": [
        "#Fundamentos python 3\n",
        "\n",
        "###Tipos de datos basicos.\n",
        "Edad = 19\n",
        "Nombre = Mario\n",
        "Estatura = 1.80 m\n",
        "Tiene_INE = True\n",
        "\n",
        "###Compuestos\n",
        "\n",
        "####Listas\n",
        "Son mutables\n",
        "Se acceden a los elementos via indice\n",
        "Los elementos pueden ser de diferente tipo.\n",
        "\n",
        "Lista_ejemplo = [\"Americano\", 1.80, true, [\"Amarillo\", \"Azul\"]]\n",
        "\n",
        "####Tuplas\n",
        "Son inmjtables\n",
        "Se accede a los elementos via indice\n",
        "\n",
        "Tupla_ejemplo = (\"root\", \"190514\", \"2345Mario\")\n",
        "\n",
        "####Diccionarios\n",
        "Son equivalentes a los JSON de JS\n",
        "\n",
        "####Sets\n",
        "Son datos agrupados.\n",
        "\n"
      ]
    },
    {
      "cell_type": "code",
      "metadata": {
        "id": "TTrsMF38vySl",
        "outputId": "d75a226f-0822-48da-a1aa-e317f5d23b88",
        "colab": {
          "base_uri": "https://localhost:8080/",
          "height": 204
        }
      },
      "source": [
        "Lista_ejemplo = [\"Americano\", [\"rojo\", \"Azul\"]]\n",
        "print(Lista_ejemplo [1])\n",
        "print(Lista_ejemplo [0])\n",
        "print(Lista_ejemplo [0][1])\n",
        "Lista_ejemplo [0] = \"Americano\"\n",
        "print(Lista_ejemplo)\n",
        "\n",
        "#agregar un elemento al final\n",
        "Lista_ejemplo.append(\"Huawei\")\n",
        "print(Lista_ejemplo)\n",
        "\n",
        "#sacar el ultimo elemento\n",
        "valor = Lista_ejemplo.pop()\n",
        "print(valor)\n",
        "print(Lista_ejemplo)\n",
        "\n",
        "Lista_ejemplo.insert(1, \"samsung\")\n",
        "print(Lista_ejemplo)\n",
        "\n",
        "conteo = Lista_ejemplo.count(\"Americano\")\n",
        "print(conteo)\n",
        "\n",
        "colores = [\"amarillo\", \"verde\"]\n",
        "Lista_ejemplo.append (colores)\n",
        "\n",
        "print(Lista_ejemplo)\n",
        "\n",
        "#con extend junta ambas listas\n",
        "Lista_ejemplo.extend(colores)\n",
        "print(Lista_ejemplo)"
      ],
      "execution_count": 13,
      "outputs": [
        {
          "output_type": "stream",
          "text": [
            "['rojo', 'Azul']\n",
            "Americano\n",
            "m\n",
            "['Americano', ['rojo', 'Azul']]\n",
            "['Americano', ['rojo', 'Azul'], 'Huawei']\n",
            "Huawei\n",
            "['Americano', ['rojo', 'Azul']]\n",
            "['Americano', 'samsung', ['rojo', 'Azul']]\n",
            "1\n",
            "['Americano', 'samsung', ['rojo', 'Azul'], ['amarillo', 'verde']]\n",
            "['Americano', 'samsung', ['rojo', 'Azul'], ['amarillo', 'verde'], 'amarillo', 'verde']\n"
          ],
          "name": "stdout"
        }
      ]
    }
  ]
}