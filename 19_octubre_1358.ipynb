{
  "nbformat": 4,
  "nbformat_minor": 0,
  "metadata": {
    "colab": {
      "name": "19_octubre_1358.ipynb",
      "provenance": [],
      "authorship_tag": "ABX9TyNi73RA/2uGepvpbQHif+5s",
      "include_colab_link": true
    },
    "kernelspec": {
      "name": "python3",
      "display_name": "Python 3"
    }
  },
  "cells": [
    {
      "cell_type": "markdown",
      "metadata": {
        "id": "view-in-github",
        "colab_type": "text"
      },
      "source": [
        "<a href=\"https://colab.research.google.com/github/Mariowr19/EDDCODIGOS/blob/master/19_octubre_1358.ipynb\" target=\"_parent\"><img src=\"https://colab.research.google.com/assets/colab-badge.svg\" alt=\"Open In Colab\"/></a>"
      ]
    },
    {
      "cell_type": "code",
      "metadata": {
        "id": "ZbxSNJswZt0R",
        "outputId": "1bf5d2fa-8e7d-4d45-c866-7d37cb2db35e",
        "colab": {
          "base_uri": "https://localhost:8080/",
          "height": 153
        }
      },
      "source": [
        "# read()\n",
        "archivo = open('frutas.txt', 'rt')\n",
        "\n",
        "data = archivo.read()\n",
        "print(data)\n",
        "print(data.upper())\n",
        "\n",
        "archivo.close()"
      ],
      "execution_count": 2,
      "outputs": [
        {
          "output_type": "stream",
          "text": [
            "limon, piña. fresa, manzana,\n",
            " capulin, naranja, pera\n",
            " mora, kiwi\n",
            "\n",
            "LIMON, PIÑA. FRESA, MANZANA,\n",
            " CAPULIN, NARANJA, PERA\n",
            " MORA, KIWI\n",
            "\n"
          ],
          "name": "stdout"
        }
      ]
    },
    {
      "cell_type": "code",
      "metadata": {
        "id": "qLtci9rceDd4"
      },
      "source": [
        "#readline()\n",
        "archivo = open('frutas.txt', 'rt')\n",
        "print(archivo.readline())\n",
        "while data != \"\":\n",
        "     print(data)\n",
        "     data = archivo.readline()\n",
        "archivo.close()\n"
      ],
      "execution_count": null,
      "outputs": []
    },
    {
      "cell_type": "code",
      "metadata": {
        "id": "EQrjDctrgJ0r",
        "outputId": "2a9b9792-2481-4946-ccf7-be3085ab65d8",
        "colab": {
          "base_uri": "https://localhost:8080/",
          "height": 51
        }
      },
      "source": [
        "#readlines()\n",
        "archivo = open('frutas.txt', 'rt')\n",
        "     \n",
        "data = archivo.readlines()\n",
        "print(data)\n",
        "\n",
        "frutas = []\n",
        "for linea in data:\n",
        "    frutas.append(linea.strip())\n",
        "\n",
        "frutas_final =[]\n",
        "for elem in frutas:\n",
        "    for fruta in elem.split(','):\n",
        "        frutas_final.append(fruta.strip())\n",
        "\n",
        "print(frutas_final)\n",
        "archivo.close()"
      ],
      "execution_count": 16,
      "outputs": [
        {
          "output_type": "stream",
          "text": [
            "['limon, piña. fresa, manzana,\\n', ' capulin, naranja, pera\\n', ' mora, kiwi\\n']\n",
            "['limon', 'piña. fresa', 'manzana', '', 'capulin', 'naranja', 'pera', 'mora', 'kiwi']\n"
          ],
          "name": "stdout"
        }
      ]
    },
    {
      "cell_type": "markdown",
      "metadata": {
        "id": "fcrTexgFlCbZ"
      },
      "source": [
        "#POO con Python\n",
        "- Clase\n",
        "- Objetos\n",
        "- Atributos\n",
        "- Metodos\n",
        "- Metodo contructor\n",
        "- Encapsulamiento (Publico y privado)\n",
        "- Herencia\n",
        "\n",
        "Declarar clase en python se usa la palabra reservada class\n"
      ]
    },
    {
      "cell_type": "code",
      "metadata": {
        "id": "24eGIqfWlvR-",
        "outputId": "a485a017-d846-49ae-dcef-967918ddecbf",
        "colab": {
          "base_uri": "https://localhost:8080/",
          "height": 34
        }
      },
      "source": [
        "class Persona:\n",
        "    def __init__( self, edd, est ):\n",
        "        self.__edad = edd\n",
        "        self.__estatura = est\n",
        "\n",
        "    def to_string( self ):\n",
        "        print(f\"Edad={self.__edad}, est={self.__estatura}\")\n",
        "\n",
        "per1 = Persona(19,1.82)\n",
        "per1.to_string()"
      ],
      "execution_count": 22,
      "outputs": [
        {
          "output_type": "stream",
          "text": [
            "Edad=19, est=1.82\n"
          ],
          "name": "stdout"
        }
      ]
    }
  ]
}