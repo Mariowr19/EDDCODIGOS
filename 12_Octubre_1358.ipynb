{
  "nbformat": 4,
  "nbformat_minor": 0,
  "metadata": {
    "colab": {
      "name": "12_Octubre_1358.ipynb",
      "provenance": [],
      "authorship_tag": "ABX9TyNcWwWTAuUBF6mUQX2c4umk",
      "include_colab_link": true
    },
    "kernelspec": {
      "name": "python3",
      "display_name": "Python 3"
    }
  },
  "cells": [
    {
      "cell_type": "markdown",
      "metadata": {
        "id": "view-in-github",
        "colab_type": "text"
      },
      "source": [
        "<a href=\"https://colab.research.google.com/github/Mariowr19/EDDCODIGOS/blob/master/12_Octubre_1358.ipynb\" target=\"_parent\"><img src=\"https://colab.research.google.com/assets/colab-badge.svg\" alt=\"Open In Colab\"/></a>"
      ]
    },
    {
      "cell_type": "code",
      "metadata": {
        "id": "tAT700rmV0cc",
        "outputId": "8e12d251-cb72-4f7e-9f96-cb4397d358f7",
        "colab": {
          "base_uri": "https://localhost:8080/",
          "height": 122
        }
      },
      "source": [
        "#diccionarios (continuacion)\n",
        "cliente_banco = {\n",
        "          \"id\" : 1,\n",
        "          \"nombres\" : [\"Mario\", \"Alberto\"],\n",
        "          \"paterno\" : \"Gonzalez\",\n",
        "          \"Materno\" : \"Villalobos\",\n",
        "          \"telefonos\" :{\n",
        "                        \"casa\" : 5558574910,\n",
        "                        \"celular\" : 5549873765,\n",
        "                        \"trabajo\" : 5540932871\n",
        "                       },\n",
        "           \"Activo\" : True,\n",
        "           \"balance\" : 549246.58,\n",
        "           \"tarjetas\" : ({ \"Tipo\" : \"Debito\", \"Saldo\" : 249800.59},\n",
        "                         {\"Tipo\" : \"Credito\", \"Saldo\" : 16500 } )\n",
        "                        \n",
        "}\n",
        "print(cliente_banco)  \n",
        "cliente_banco[\"balance\"] = cliente_banco[\"balance\"] -9000.58\n",
        "print(cliente_banco) \n",
        "\n",
        "cliente_banco[\"tarjetas\"] = ({ \"Tipo\" : \"Debito\", \"Saldo\" : 249800.59},\n",
        "                             {\"Tipo\" : \"Credito\", \"Saldo\" : 16500 },\n",
        "                             {\"Tipo\" : \"Credito\", \"Nivel\" : \"Oro\", \"Saldo\" : 500000} )\n",
        "print(cliente_banco)\n",
        "\n",
        "cliente_banco[\"direccion\"] = {\"Calle\" : \"Joaquin herrera\", \"Numero\" : 150, \"Delegacion\" : \"GAM\"}\n",
        "print(cliente_banco)\n",
        "\n",
        "cliente_banco.pop(\"tarjetas\")\n",
        "print(cliente_banco)\n",
        "\n",
        "     "
      ],
      "execution_count": 17,
      "outputs": [
        {
          "output_type": "stream",
          "text": [
            "{'id': 1, 'nombres': ['Mario', 'Alberto'], 'paterno': 'Gonzalez', 'Materno': 'Villalobos', 'telefonos': {'casa': 5558574910, 'celular': 5549873765, 'trabajo': 5540932871}, 'Activo': True, 'balance': 549246.58, 'tarjetas': ({'Tipo': 'Debito', 'Saldo': 249800.59}, {'Tipo': 'Credito', 'Saldo': 16500})}\n",
            "{'id': 1, 'nombres': ['Mario', 'Alberto'], 'paterno': 'Gonzalez', 'Materno': 'Villalobos', 'telefonos': {'casa': 5558574910, 'celular': 5549873765, 'trabajo': 5540932871}, 'Activo': True, 'balance': 540246.0, 'tarjetas': ({'Tipo': 'Debito', 'Saldo': 249800.59}, {'Tipo': 'Credito', 'Saldo': 16500})}\n",
            "{'id': 1, 'nombres': ['Mario', 'Alberto'], 'paterno': 'Gonzalez', 'Materno': 'Villalobos', 'telefonos': {'casa': 5558574910, 'celular': 5549873765, 'trabajo': 5540932871}, 'Activo': True, 'balance': 540246.0, 'tarjetas': ({'Tipo': 'Debito', 'Saldo': 249800.59}, {'Tipo': 'Credito', 'Saldo': 16500}, {'Tipo': 'Credito', 'Nivel': 'Oro', 'Saldo': 500000})}\n",
            "{'id': 1, 'nombres': ['Mario', 'Alberto'], 'paterno': 'Gonzalez', 'Materno': 'Villalobos', 'telefonos': {'casa': 5558574910, 'celular': 5549873765, 'trabajo': 5540932871}, 'Activo': True, 'balance': 540246.0, 'tarjetas': ({'Tipo': 'Debito', 'Saldo': 249800.59}, {'Tipo': 'Credito', 'Saldo': 16500}, {'Tipo': 'Credito', 'Nivel': 'Oro', 'Saldo': 500000}), 'direccion': {'Calle': 'Joaquin herrera', 'Numero': 150, 'Delegacion': 'GAM'}}\n",
            "{'id': 1, 'nombres': ['Mario', 'Alberto'], 'paterno': 'Gonzalez', 'Materno': 'Villalobos', 'telefonos': {'casa': 5558574910, 'celular': 5549873765, 'trabajo': 5540932871}, 'Activo': True, 'balance': 540246.0, 'direccion': {'Calle': 'Joaquin herrera', 'Numero': 150, 'Delegacion': 'GAM'}}\n"
          ],
          "name": "stdout"
        }
      ]
    },
    {
      "cell_type": "code",
      "metadata": {
        "id": "TEf-zYa1dpLv",
        "outputId": "cde0d32d-286b-497a-c12b-2cac7dcc783a",
        "colab": {
          "base_uri": "https://localhost:8080/",
          "height": 496
        }
      },
      "source": [
        "llaves = cliente_banco.keys()\n",
        "print(llaves)\n",
        "print(type(llaves))\n",
        "for x in llaves:\n",
        "    print(x)\n",
        "\n",
        "valores = cliente_banco.values()\n",
        "for v in valores:\n",
        "    print(v)\n",
        "\n",
        "pares = cliente_banco.items()\n",
        "print(pares)\n",
        "\n",
        "for elem in pares:\n",
        "    print(f\" {elem[0]} = {elem[1]} \")\n",
        "\n"
      ],
      "execution_count": 24,
      "outputs": [
        {
          "output_type": "stream",
          "text": [
            "dict_keys(['id', 'nombres', 'paterno', 'Materno', 'telefonos', 'Activo', 'balance', 'direccion'])\n",
            "<class 'dict_keys'>\n",
            "id\n",
            "nombres\n",
            "paterno\n",
            "Materno\n",
            "telefonos\n",
            "Activo\n",
            "balance\n",
            "direccion\n",
            "1\n",
            "['Mario', 'Alberto']\n",
            "Gonzalez\n",
            "Villalobos\n",
            "{'casa': 5558574910, 'celular': 5549873765, 'trabajo': 5540932871}\n",
            "True\n",
            "540246.0\n",
            "{'Calle': 'Joaquin herrera', 'Numero': 150, 'Delegacion': 'GAM'}\n",
            "dict_items([('id', 1), ('nombres', ['Mario', 'Alberto']), ('paterno', 'Gonzalez'), ('Materno', 'Villalobos'), ('telefonos', {'casa': 5558574910, 'celular': 5549873765, 'trabajo': 5540932871}), ('Activo', True), ('balance', 540246.0), ('direccion', {'Calle': 'Joaquin herrera', 'Numero': 150, 'Delegacion': 'GAM'})])\n",
            " id = 1 \n",
            " nombres = ['Mario', 'Alberto'] \n",
            " paterno = Gonzalez \n",
            " Materno = Villalobos \n",
            " telefonos = {'casa': 5558574910, 'celular': 5549873765, 'trabajo': 5540932871} \n",
            " Activo = True \n",
            " balance = 540246.0 \n",
            " direccion = {'Calle': 'Joaquin herrera', 'Numero': 150, 'Delegacion': 'GAM'} \n"
          ],
          "name": "stdout"
        }
      ]
    },
    {
      "cell_type": "code",
      "metadata": {
        "id": "h8NsaamSg4VM",
        "outputId": "b5241417-6785-4119-ff39-834b9a88d64f",
        "colab": {
          "base_uri": "https://localhost:8080/",
          "height": 34
        }
      },
      "source": [
        "fruta = {\"nombre\" : \"manzana\", \"color\" : \"rojo\", \"estado\" : \"chihuahua\"}\n",
        "otras_caracteristicas = {\"vitamina\" : \"D\"}\n",
        "fruta.update(otras_caracteristicas)\n",
        "print(fruta)\n"
      ],
      "execution_count": 27,
      "outputs": [
        {
          "output_type": "stream",
          "text": [
            "{'nombre': 'manzana', 'color': 'rojo', 'estado': 'chihuahua', 'vitamina': 'D'}\n"
          ],
          "name": "stdout"
        }
      ]
    },
    {
      "cell_type": "markdown",
      "metadata": {
        "id": "te1MqDyZiSdc"
      },
      "source": [
        "#Funciones\n",
        "- Recibe de 0 a N argumentos.\n",
        "- Regresa solo un valor aunuqe ese valor sea None.\n",
        "- Tiene un nombre unico en el contexto.\n",
        "\n",
        "\n",
        "- Funciones:\n",
        "      - Definirla\n",
        "      - Llamarla"
      ]
    },
    {
      "cell_type": "code",
      "metadata": {
        "id": "bRgSNv9GjHPn",
        "outputId": "aa612355-e18c-4ad8-c263-482cf9dda2d3",
        "colab": {
          "base_uri": "https://localhost:8080/",
          "height": 51
        }
      },
      "source": [
        "def suma(a,b):\n",
        "    return a+b\n",
        "\n",
        "def saludar():\n",
        "    print(\"Hola, ¿Como estas?\")\n",
        "    return None\n",
        "\n",
        "x = 10\n",
        "y = 15\n",
        "c = suma(x,y)\n",
        "\n",
        "print(c)\n",
        "saludar()\n"
      ],
      "execution_count": 31,
      "outputs": [
        {
          "output_type": "stream",
          "text": [
            "25\n",
            "Hola, ¿Como estas?\n"
          ],
          "name": "stdout"
        }
      ]
    },
    {
      "cell_type": "markdown",
      "metadata": {
        "id": "djiUc5xRksEW"
      },
      "source": [
        "#None y las funciones\n",
        "Aprovechar el uso de none en paso de parametros "
      ]
    },
    {
      "cell_type": "code",
      "metadata": {
        "id": "VfBa4n-Sk6gl",
        "outputId": "a3d8e37b-5531-4d6f-daa5-2296572108c1",
        "colab": {
          "base_uri": "https://localhost:8080/",
          "height": 51
        }
      },
      "source": [
        "def calcular(base, veces):\n",
        "    if base != None:\n",
        "        resultado = base*veces\n",
        "    else:\n",
        "        resultado = \"Desconocido\"\n",
        "    return resultado\n",
        "\n",
        "print(calcular(4,3))\n",
        "print(calcular(None,3))"
      ],
      "execution_count": 36,
      "outputs": [
        {
          "output_type": "stream",
          "text": [
            "12\n",
            "Desconocido\n"
          ],
          "name": "stdout"
        }
      ]
    }
  ]
}