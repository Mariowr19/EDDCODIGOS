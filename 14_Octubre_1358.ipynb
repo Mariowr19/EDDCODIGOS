{
  "nbformat": 4,
  "nbformat_minor": 0,
  "metadata": {
    "colab": {
      "name": "14_Octubre_1358.ipynb",
      "provenance": [],
      "authorship_tag": "ABX9TyMzmXd04o5UVqRVjxePH8U2",
      "include_colab_link": true
    },
    "kernelspec": {
      "name": "python3",
      "display_name": "Python 3"
    }
  },
  "cells": [
    {
      "cell_type": "markdown",
      "metadata": {
        "id": "view-in-github",
        "colab_type": "text"
      },
      "source": [
        "<a href=\"https://colab.research.google.com/github/Mariowr19/EDDCODIGOS/blob/master/14_Octubre_1358.ipynb\" target=\"_parent\"><img src=\"https://colab.research.google.com/assets/colab-badge.svg\" alt=\"Open In Colab\"/></a>"
      ]
    },
    {
      "cell_type": "code",
      "metadata": {
        "id": "lMMuWDwtpMeR",
        "outputId": "d9b168f7-dc41-4cb5-de1d-df9f2c06e61f",
        "colab": {
          "base_uri": "https://localhost:8080/",
          "height": 85
        }
      },
      "source": [
        "def calcular(a, b, c):\n",
        "    x = a + (b / c)\n",
        "    return x\n",
        "\n",
        "print(calcular(5, 9, 3))\n",
        "print(calcular(a=5, c=3, b=9))\n",
        "\n",
        "def calcular_v2( a=10, b=20, c=5):\n",
        "    x = a + (b / c)\n",
        "    return x\n",
        "\n",
        "print(calcular_v2())\n",
        "print(calcular_v2(50))\n",
        "\n",
        "\n"
      ],
      "execution_count": 8,
      "outputs": [
        {
          "output_type": "stream",
          "text": [
            "8.0\n",
            "8.0\n",
            "14.0\n",
            "54.0\n"
          ],
          "name": "stdout"
        }
      ]
    },
    {
      "cell_type": "markdown",
      "metadata": {
        "id": "g0rIIZd9rtoo"
      },
      "source": [
        "#Argumentos a funciones por tupla *\n",
        "se envian los argumentos en un conjunto dentro de una tupla.\n"
      ]
    },
    {
      "cell_type": "code",
      "metadata": {
        "id": "mhB2Gr9-r_Ah",
        "outputId": "b52b830c-f465-4266-9246-a17ae7c548ef",
        "colab": {
          "base_uri": "https://localhost:8080/",
          "height": 51
        }
      },
      "source": [
        "def calculo( *elem ):\n",
        "    print(elem)\n",
        "    x = elem[0] + (elem[1] / elem[2])\n",
        "    return x\n",
        "\n",
        "print(calculo(5, 9, 3))\n",
        "\n"
      ],
      "execution_count": 10,
      "outputs": [
        {
          "output_type": "stream",
          "text": [
            "(5, 9, 3)\n",
            "8.0\n"
          ],
          "name": "stdout"
        }
      ]
    },
    {
      "cell_type": "markdown",
      "metadata": {
        "id": "iVEPNlh0sui8"
      },
      "source": [
        "#Argumentos como diccionario (**)\n"
      ]
    },
    {
      "cell_type": "code",
      "metadata": {
        "id": "c2MCmjvls09P",
        "outputId": "28d25af9-82c7-4dcb-be24-2ffa52a354d9",
        "colab": {
          "base_uri": "https://localhost:8080/",
          "height": 51
        }
      },
      "source": [
        "def calculo( **elem ):\n",
        "    print(elem)\n",
        "    x = elem['a'] + (elem['b'] / elem['c'])\n",
        "    return x\n",
        "\n",
        "print(calculo( a=5, b=9, c=3))\n"
      ],
      "execution_count": 12,
      "outputs": [
        {
          "output_type": "stream",
          "text": [
            "{'a': 5, 'b': 9, 'c': 3}\n",
            "8.0\n"
          ],
          "name": "stdout"
        }
      ]
    },
    {
      "cell_type": "markdown",
      "metadata": {
        "id": "InamwQse2jPK"
      },
      "source": [
        "#Archivos\n",
        "- Abrirlos\n",
        "   - Un str con la ruta el arc\n",
        "   - dos caracteres: 1 -> modo de apertura (r,w) y el 2 formato (texto o binario)\n",
        "- Leerlos\n",
        "- Modificarlos"
      ]
    },
    {
      "cell_type": "code",
      "metadata": {
        "id": "1fC1fn-M3IWh"
      },
      "source": [
        "archivo = open('ejemplo.txt' , 'wt')\n",
        "archivo.write(\"Hola mundo de archivos\")\n",
        "\n",
        "archivo.close()"
      ],
      "execution_count": 18,
      "outputs": []
    },
    {
      "cell_type": "code",
      "metadata": {
        "id": "C0JcOEBA4f2Y",
        "outputId": "db3c45f5-8530-4a88-ac25-67536801c447",
        "colab": {
          "base_uri": "https://localhost:8080/",
          "height": 34
        }
      },
      "source": [
        "cat ejemplo.txt"
      ],
      "execution_count": 19,
      "outputs": [
        {
          "output_type": "stream",
          "text": [
            "Hola mundo de archivos"
          ],
          "name": "stdout"
        }
      ]
    },
    {
      "cell_type": "code",
      "metadata": {
        "id": "KFDrGJWQ5S3p",
        "outputId": "12658337-fc20-4a5e-9f19-de503f5ce615",
        "colab": {
          "base_uri": "https://localhost:8080/",
          "height": 34
        }
      },
      "source": [
        "mkdir ejemplo"
      ],
      "execution_count": 22,
      "outputs": [
        {
          "output_type": "stream",
          "text": [
            "mkdir: cannot create directory ‘ejemplo’: File exists\n"
          ],
          "name": "stdout"
        }
      ]
    }
  ]
}