{
  "nbformat": 4,
  "nbformat_minor": 0,
  "metadata": {
    "colab": {
      "name": "Tarea 7_Pilas.ipynb",
      "provenance": [],
      "authorship_tag": "ABX9TyP0ZdUoW7D2msFNH/jWq+lW",
      "include_colab_link": true
    },
    "kernelspec": {
      "name": "python3",
      "display_name": "Python 3"
    }
  },
  "cells": [
    {
      "cell_type": "markdown",
      "metadata": {
        "id": "view-in-github",
        "colab_type": "text"
      },
      "source": [
        "<a href=\"https://colab.research.google.com/github/Mariowr19/EDDCODIGOS/blob/master/Tarea_7_Pilas.ipynb\" target=\"_parent\"><img src=\"https://colab.research.google.com/assets/colab-badge.svg\" alt=\"Open In Colab\"/></a>"
      ]
    },
    {
      "cell_type": "code",
      "metadata": {
        "id": "agSBnXER78vL"
      },
      "source": [
        "class stack:\n",
        "\n",
        "    def __init__( self ):\n",
        "        self.__data = []\n",
        "        self.__size = 0\n",
        "\n",
        "    def pop ( self):\n",
        "        return self.__data.pop()\n",
        "\n",
        "    def peek( self ):\n",
        "        return self.__data[-1]\n",
        "\n",
        "    def push( self , value ):\n",
        "        self.__data.append(value)\n",
        "\n",
        "    def to_string( self ):\n",
        "        print(\"--------\")\n",
        "        for dato in self.__data[ ::-1 ]:\n",
        "            print(f\"| { dato }  |\")\n",
        "            print(\"--------\")\n"
      ],
      "execution_count": 6,
      "outputs": []
    },
    {
      "cell_type": "code",
      "metadata": {
        "colab": {
          "base_uri": "https://localhost:8080/"
        },
        "id": "gvuhWt9IAB_4",
        "outputId": "869e181e-504c-4017-e2a4-8ebd2f529f10"
      },
      "source": [
        "pl = stack()\n",
        "pl.push(34)\n",
        "pl.push(10)\n",
        "pl.push(45)\n",
        "pl.push(4)\n",
        "pl.push(23)\n",
        "pl.push(33)\n",
        "valor = pl.pop()\n",
        "print( valor * 2)\n",
        "pl.to_string()\n",
        "valor = pl.peek()\n",
        "print( valor * 2)\n",
        "pl.to_string()\n"
      ],
      "execution_count": 7,
      "outputs": [
        {
          "output_type": "stream",
          "text": [
            "66\n",
            "--------\n",
            "| 23  |\n",
            "--------\n",
            "| 4  |\n",
            "--------\n",
            "| 45  |\n",
            "--------\n",
            "| 10  |\n",
            "--------\n",
            "| 34  |\n",
            "--------\n",
            "46\n",
            "--------\n",
            "| 23  |\n",
            "--------\n",
            "| 4  |\n",
            "--------\n",
            "| 45  |\n",
            "--------\n",
            "| 10  |\n",
            "--------\n",
            "| 34  |\n",
            "--------\n"
          ],
          "name": "stdout"
        }
      ]
    },
    {
      "cell_type": "code",
      "metadata": {
        "colab": {
          "base_uri": "https://localhost:8080/"
        },
        "id": "wi82XbKGB56y",
        "outputId": "426d4453-b3bc-49cb-cebb-cc98e298c1fd"
      },
      "source": [
        "# Aplicacion de la estructura stack.\n",
        "# 1.- Validacion de parentesis balanceados '( ' , '{' y '[')\n",
        "\n",
        "cadena = \"b=3*(9-((78/3))\"\n",
        "pila = stack()\n",
        "pila.push(\"#\") \n",
        "for elem in cadena:\n",
        "    if elem == '(' :\n",
        "        pila.push('*')\n",
        "    elif elem == ')' :\n",
        "        pila.pop()\n",
        "    else:\n",
        "        pass\n",
        "if pila.peek() == '#' :\n",
        "    print(\"La expresion esta balanceada en parentesis\")\n",
        "else:\n",
        "    print(\"La expresion no está balanceada\")\n"
      ],
      "execution_count": 14,
      "outputs": [
        {
          "output_type": "stream",
          "text": [
            "La expresion no está balanceada\n"
          ],
          "name": "stdout"
        }
      ]
    }
  ]
}