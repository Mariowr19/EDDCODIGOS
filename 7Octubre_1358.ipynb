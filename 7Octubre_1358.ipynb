{
  "nbformat": 4,
  "nbformat_minor": 0,
  "metadata": {
    "colab": {
      "name": "7Octubre_1358.ipynb",
      "provenance": [],
      "authorship_tag": "ABX9TyN/S9ri2zJLzWQMMoP0x1td",
      "include_colab_link": true
    },
    "kernelspec": {
      "name": "python3",
      "display_name": "Python 3"
    }
  },
  "cells": [
    {
      "cell_type": "markdown",
      "metadata": {
        "id": "view-in-github",
        "colab_type": "text"
      },
      "source": [
        "<a href=\"https://colab.research.google.com/github/Mariowr19/EDDCODIGOS/blob/master/7Octubre_1358.ipynb\" target=\"_parent\"><img src=\"https://colab.research.google.com/assets/colab-badge.svg\" alt=\"Open In Colab\"/></a>"
      ]
    },
    {
      "cell_type": "code",
      "metadata": {
        "id": "DQusS_pIjQ5F",
        "outputId": "dccb148f-dacb-4f18-ce4f-37fed0383f64",
        "colab": {
          "base_uri": "https://localhost:8080/"
        }
      },
      "source": [
        "#listas multidimensionales.\n",
        "autos = [\"honda\", \"mazda\", \"nissan\", \"kia\"]\n",
        "telefonos = [\"iphone 11\", \"huawei Y9s\", \"samsung S10+\", \"Motorola onoe fusion+\"]\n",
        "sistemas_operativos = [\"linux\", \"windows\", \"IOs\", \"Android\", \"MacOs\"]\n",
        "procesadores = [[\"intel\",3.1,True], [\"AMD\",2.7,False], [\"motorola\",1.1,False] ]\n",
        "\n",
        "lista_nd = [autos,telefonos,sistemas_operativos,procesadores]\n",
        "print(lista_nd)\n",
        "print(lista_nd[2][2])\n",
        "print(lista_nd[1][1][3:6])\n",
        "print(lista_nd[3][1][1])\n",
        "print(lista_nd[3][2][0][2:6])\n",
        "print(lista_nd[3][0][0][-2:-5:-1])\n",
        "\n",
        "colores = [\"azul\", \"negro\", \"amarillo\", \"rojo\"]\n",
        "perros = [\"xolo\", \"pitbull\"]\n",
        "nueva = colores + perros\n",
        "\n",
        "print(nueva)\n",
        "print(colores)\n",
        "print(perros)\n",
        "\n",
        "#con extend\n",
        "colores.extend(perros)\n",
        "print(colores)\n",
        "\n",
        "#unpacking de listas\n",
        "print(\"unpacking\")\n",
        "datod_personales = [\"Mario Alberto\", \"Gonzalez\", \"Villalobos\", 19, 1.80, False]\n",
        "nombres,paterno, materno, edad, estatura, fuma = datod_personales\n",
        "print(f\"Nombre:{nombres}\\nEdad:{edad}\")\n",
        "\n",
        "\n"
      ],
      "execution_count": 29,
      "outputs": [
        {
          "output_type": "stream",
          "text": [
            "[['honda', 'mazda', 'nissan', 'kia'], ['iphone 11', 'huawei Y9s', 'samsung S10+', 'Motorola onoe fusion+'], ['linux', 'windows', 'IOs', 'Android', 'MacOs'], [['intel', 3.1, True], ['AMD', 2.7, False], ['motorola', 1.1, False]]]\n",
            "IOs\n",
            "wei\n",
            "2.7\n",
            "toro\n",
            "etn\n",
            "['azul', 'negro', 'amarillo', 'rojo', 'xolo', 'pitbull']\n",
            "['azul', 'negro', 'amarillo', 'rojo']\n",
            "['xolo', 'pitbull']\n",
            "['azul', 'negro', 'amarillo', 'rojo', 'xolo', 'pitbull']\n",
            "unpacking\n",
            "Nombre:Mario Alberto\n",
            "Edad:19\n"
          ],
          "name": "stdout"
        }
      ]
    },
    {
      "cell_type": "code",
      "metadata": {
        "id": "Rba_InYMuKCJ",
        "outputId": "8dbf98bb-1487-47b5-cf07-746319c5aa6b",
        "colab": {
          "base_uri": "https://localhost:8080/",
          "height": 129
        }
      },
      "source": [
        "#Tuplas\n",
        "bd = ('127.0.0.1', 'root', 'toor', '12345')\n",
        "print(f\"El usuario de la bd es {bd[1]} \")\n",
        "\n",
        "#bd[1 = 'User1']\n",
        "print(bd[1:3])\n",
        "\n",
        "#Diccionarios\n",
        "alumno = {'nombre': 'mario', 'edad':19, 'carrera' :'ico'}\n",
        "print(alumno)\n",
        "print(alumno[\"edad\"])\n",
        "alumno = {\n",
        "    'nombre': 'Mario',\n",
        "    'edad': 19,\n",
        "    'carrera': 'ico',\n",
        "    'direccion': {\n",
        "        'calle': 'bosques de africa',\n",
        "        'numero': 133,\n",
        "        'delegacion': 'nezahualcoyotl',\n",
        "        'estado': 15,\n",
        "        'nombre_estado': 'Estado de Mexico'\n",
        "\n",
        "    }\n",
        "}\n",
        "print(alumno)\n",
        "print(alumno['direccion']['delegacion'])\n",
        "print(alumno['direccion']['delegacion'][3:7])\n",
        "print(alumno['direccion']['delegacion'][3:7].upper())\n",
        "alumno['edad'] = 25\n",
        "print(alumno)\n",
        "alumno['promedio'] = 9.2\n",
        "print(alumno)\n",
        "alumno['direccion']['cp'] = 17170\n",
        "print(alumno)\n",
        "alumno['materia'] ={'nombre': 'CyP', 'calificacion': 10}\n",
        "print(alumno)\n",
        "\n",
        "cliente = {'ID': 1, 'Nombre': 'Carlos Slim'}\n",
        "print(cliente)\n"
      ],
      "execution_count": 55,
      "outputs": [
        {
          "output_type": "error",
          "ename": "SyntaxError",
          "evalue": "ignored",
          "traceback": [
            "\u001b[0;36m  File \u001b[0;32m\"<ipython-input-55-b16b8255e316>\"\u001b[0;36m, line \u001b[0;32m38\u001b[0m\n\u001b[0;31m    cliente = {'ID': 1,\\n 'Nombre': 'Carlos Slim'}\u001b[0m\n\u001b[0m                                                  ^\u001b[0m\n\u001b[0;31mSyntaxError\u001b[0m\u001b[0;31m:\u001b[0m unexpected character after line continuation character\n"
          ]
        }
      ]
    }
  ]
}