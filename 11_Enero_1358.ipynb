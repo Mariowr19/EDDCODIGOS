{
  "nbformat": 4,
  "nbformat_minor": 0,
  "metadata": {
    "colab": {
      "name": "Untitled6.ipynb",
      "provenance": [],
      "authorship_tag": "ABX9TyMKY0annDfo/28fZk/2yhFh",
      "include_colab_link": true
    },
    "kernelspec": {
      "name": "python3",
      "display_name": "Python 3"
    }
  },
  "cells": [
    {
      "cell_type": "markdown",
      "metadata": {
        "id": "view-in-github",
        "colab_type": "text"
      },
      "source": [
        "<a href=\"https://colab.research.google.com/github/Mariowr19/EDDCODIGOS/blob/master/11_Enero_1358.ipynb\" target=\"_parent\"><img src=\"https://colab.research.google.com/assets/colab-badge.svg\" alt=\"Open In Colab\"/></a>"
      ]
    },
    {
      "cell_type": "code",
      "metadata": {
        "colab": {
          "base_uri": "https://localhost:8080/",
          "height": 129
        },
        "id": "0V82sTP0izCK",
        "outputId": "0963423a-8ce8-4d88-b5c6-1230834e9c6b"
      },
      "source": [
        "class NodoArbol(object):\r\n",
        "\t\"\"\"docstring for NodoArbol\"\"\"\r\n",
        "\tdef _init_(self, dato, hijo_izquierdo = None , hijo_derecho = None):\r\n",
        "\t\tself.dato = dato\r\n",
        "\t\tself.hijo_izq = hijo_izquierdo\t\t\r\n",
        "\t\tself.hijo_der = hijo_derecho\r\n",
        "\r\n",
        "\r\n",
        "arbol = NodoArbol('R','C','H')\t\r\n",
        "arbol.hijo_izq = NodoArbol('C')\t\t\r\n",
        "arbol.hijo_der = NodoArbol('H')\t\r\n",
        "\r\n",
        "print(arbol.dato)\t\r\n",
        "print(arbol.hijo_izq.dato)\t\r\n",
        "print(arbol.hijo_der.dato)\t\r\n",
        "\r\n",
        "class NodoArbol(object):\r\n",
        "\t\"\"\"docstring for NodoArbol\"\"\"\r\n",
        "\tdef _init_(self, dato, hijo_izquierdo = None , hijo_derecho = None,hijo_3 = None):\r\n",
        "\t\tself.dato = dato\r\n",
        "\t\tself.hijo_izq = hijo_izquierdo\t\t\r\n",
        "\t\tself.hijo_der = hijo_derecho\r\n",
        "\t\tself.tercer_hijo = hijo_3\r\n",
        "\r\n",
        "class Nodo_Arbol2:\r\n",
        "    def _init_( self , dato , hijo_izq=None , hijo_central=None , hijo_der=None):\r\n",
        "        self.dato = dato\r\n",
        "        self.hijo_izq = hijo_izq\r\n",
        "        self.hijo_der = hijo_der\r\n",
        "        self.hijo_central=  hijo_central\r\n",
        "\r\n",
        "arbol3 = Nodo_Arbol2(\"R\" , Nodo_Arbol2(\"I\" , None , Nodo_Arbol2(\"X\")) , Nodo_Arbol2(\"C\" , Nodo_Arbol2(\"Y\")) , Nodo_Arbol2(\"D\" , None , None , Nodo_Arbol2(\"Z\")))\r\n",
        "print('\\n')\r\n",
        "print(arbol3.dato)\r\n",
        "print(arbol3.hijo_izq.dato)\r\n",
        "print(arbol3.hijo_der.dato)\r\n",
        "print(arbol3.hijo_central.dato)\r\n",
        "print(arbol3.hijo_izq.hijo_central.dato)\r\n",
        "print(arbol3.hijo_der.hijo_der.dato)\r\n",
        "print(arbol3.hijo_central.hijo_izq.dato)"
      ],
      "execution_count": 3,
      "outputs": [
        {
          "output_type": "error",
          "ename": "SyntaxError",
          "evalue": "ignored",
          "traceback": [
            "\u001b[0;36m  File \u001b[0;32m\"<ipython-input-3-224ba2213147>\"\u001b[0;36m, line \u001b[0;32m9\u001b[0m\n\u001b[0;31m    arbol = NodoArbol('R','C','H'):\u001b[0m\n\u001b[0m                                  ^\u001b[0m\n\u001b[0;31mSyntaxError\u001b[0m\u001b[0;31m:\u001b[0m invalid syntax\n"
          ]
        }
      ]
    }
  ]
}