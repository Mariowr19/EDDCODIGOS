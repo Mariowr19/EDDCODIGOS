{
  "nbformat": 4,
  "nbformat_minor": 0,
  "metadata": {
    "colab": {
      "name": "Comparacion_2_:Numeros.ipynb",
      "provenance": [],
      "authorship_tag": "ABX9TyMG6dRtXKHWdm1tVRYrdCGj",
      "include_colab_link": true
    },
    "kernelspec": {
      "name": "python3",
      "display_name": "Python 3"
    }
  },
  "cells": [
    {
      "cell_type": "markdown",
      "metadata": {
        "id": "view-in-github",
        "colab_type": "text"
      },
      "source": [
        "<a href=\"https://colab.research.google.com/github/Mariowr19/EDDCODIGOS/blob/master/Comparacion_2__Numeros.ipynb\" target=\"_parent\"><img src=\"https://colab.research.google.com/assets/colab-badge.svg\" alt=\"Open In Colab\"/></a>"
      ]
    },
    {
      "cell_type": "code",
      "metadata": {
        "colab": {
          "base_uri": "https://localhost:8080/"
        },
        "id": "qPSwLlg5ssvM",
        "outputId": "786d55d0-a70d-4606-bf69-f1fd792c2a1d"
      },
      "source": [
        "x = int(input(\"¿Cuál es el primer número?\")) \r\n",
        "y = int(input(\"¿Cuál es el segundo número?\"))\r\n",
        "if x>y:\r\n",
        "  print('El primer número es mayor.')\r\n",
        "elif x<y:\r\n",
        "  print('El primer número es menor.')\r\n",
        "else:\r\n",
        "  print('Ambos numeros son iguales.')\r\n"
      ],
      "execution_count": 1,
      "outputs": [
        {
          "output_type": "stream",
          "text": [
            "¿Cuál es el primer número?8\n",
            "¿Cuál es el segundo número?12\n",
            "El primer número es menor.\n"
          ],
          "name": "stdout"
        }
      ]
    }
  ]
}