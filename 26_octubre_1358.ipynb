{
  "nbformat": 4,
  "nbformat_minor": 0,
  "metadata": {
    "colab": {
      "name": "26_octubre_1358.ipynb",
      "provenance": [],
      "authorship_tag": "ABX9TyOGwJMdH85L8mQF5Zxxobxn",
      "include_colab_link": true
    },
    "kernelspec": {
      "name": "python3",
      "display_name": "Python 3"
    }
  },
  "cells": [
    {
      "cell_type": "markdown",
      "metadata": {
        "id": "view-in-github",
        "colab_type": "text"
      },
      "source": [
        "<a href=\"https://colab.research.google.com/github/Mariowr19/EDDCODIGOS/blob/master/26_octubre_1358.ipynb\" target=\"_parent\"><img src=\"https://colab.research.google.com/assets/colab-badge.svg\" alt=\"Open In Colab\"/></a>"
      ]
    },
    {
      "cell_type": "code",
      "metadata": {
        "id": "Pv7Dql54-8ji",
        "outputId": "8d0ca0c2-e410-449c-ed45-0043dea312d2",
        "colab": {
          "base_uri": "https://localhost:8080/"
        }
      },
      "source": [
        "'''\n",
        "Array\n",
        "'''\n",
        "\n",
        "class Array:\n",
        "\tdef __init__(self,tam):#Array?\n",
        "\n",
        "\t\tself.__datos = [0 for x in range(tam)]\n",
        "\t\t\n",
        "\tdef get_Item(self,index):\n",
        "\n",
        "\t\treturn self.__datos[index]\n",
        "\n",
        "\n",
        "mi_arreglo = Array(10)\n",
        "print(mi_arreglo.get_Item(2))"
      ],
      "execution_count": 1,
      "outputs": [
        {
          "output_type": "stream",
          "text": [
            "0\n"
          ],
          "name": "stdout"
        }
      ]
    }
  ]
}